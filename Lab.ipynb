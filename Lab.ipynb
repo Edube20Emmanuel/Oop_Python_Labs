{
 "cells": [
  {
   "cell_type": "code",
   "execution_count": 45,
   "metadata": {},
   "outputs": [],
   "source": [
    "class Vehicle:\n",
    "    def __init__(self, color):\n",
    "        self.color = color\n",
    "\n",
    "    @property\n",
    "    def get_color(self):\n",
    "        return self.color.title()\n",
    "    \n",
    "    def __repr__(self):\n",
    "        return 'This vehicle is %s' %(self.get_color)\n",
    "    \n"
   ]
  },
  {
   "cell_type": "code",
   "execution_count": 46,
   "metadata": {},
   "outputs": [
    {
     "data": {
      "text/plain": [
       "This vehicle is Blue"
      ]
     },
     "execution_count": 46,
     "metadata": {},
     "output_type": "execute_result"
    }
   ],
   "source": [
    "car1 = Vehicle('blue')\n",
    "car1"
   ]
  },
  {
   "cell_type": "code",
   "execution_count": 47,
   "metadata": {},
   "outputs": [],
   "source": [
    "class Car(Vehicle):\n",
    "    def __init__(self, color, winter_tires = False):\n",
    "        super().__init__(color)\n",
    "        self.winter_tires = winter_tires\n",
    "\n",
    "    def __str__(self):\n",
    "        return 'This vehicle is %s \\nHas winter tires: %s\\\n",
    "            ' %(self.get_color,self.winter_tires)\n"
   ]
  },
  {
   "cell_type": "code",
   "execution_count": 43,
   "metadata": {},
   "outputs": [
    {
     "name": "stdout",
     "output_type": "stream",
     "text": [
      "This vehicle is White \n",
      "Has winter tires: True            \n"
     ]
    }
   ],
   "source": [
    "car2 = Car('white',True)\n",
    "print(car2)"
   ]
  },
  {
   "cell_type": "code",
   "execution_count": 48,
   "metadata": {},
   "outputs": [],
   "source": [
    "class Truck(Vehicle):\n",
    "    def __init__(self, color, has_trailer = False):\n",
    "        super().__init__(color)\n",
    "        self.has_trailer = has_trailer\n",
    "\n",
    "    def __str__(self):\n",
    "        return 'This vehicle is %s \\nHas trailer: %s\\\n",
    "            ' %(self.get_color,self.has_trailer)\n"
   ]
  },
  {
   "cell_type": "code",
   "execution_count": 49,
   "metadata": {},
   "outputs": [
    {
     "name": "stdout",
     "output_type": "stream",
     "text": [
      "This vehicle is Red \n",
      "Has trailer: False            \n"
     ]
    }
   ],
   "source": [
    "truck = Truck('red')\n",
    "print(truck)"
   ]
  },
  {
   "cell_type": "code",
   "execution_count": 19,
   "metadata": {},
   "outputs": [],
   "source": [
    "class Garage:\n",
    "    def __init__(self,):\n",
    "        self.vehicle_parked = None\n",
    "\n",
    "    def set_Vehicle(self,parked):\n",
    "        self.vehicle_parked = parked\n",
    "\n",
    "    def __str__(self):\n",
    "        if self.vehicle_parked:\n",
    "            return 'Description of parked vehicle:\\n%s'\\\n",
    "                %(self.vehicle_parked)\n",
    "        else:\n",
    "            return 'There is no car parked in the garage'"
   ]
  },
  {
   "cell_type": "code",
   "execution_count": 50,
   "metadata": {},
   "outputs": [],
   "source": [
    "class Garage_Tester:\n",
    "    @staticmethod\n",
    "    def get_example():\n",
    "        truck = Truck(\"black\", True)\n",
    "        garage = Garage()\n",
    "        garage.set_Vehicle(truck)\n",
    "        return garage"
   ]
  },
  {
   "cell_type": "code",
   "execution_count": 51,
   "metadata": {},
   "outputs": [
    {
     "name": "stdout",
     "output_type": "stream",
     "text": [
      "Description of parked vehicle:\n",
      "This vehicle is Black \n",
      "Has trailer: True            \n"
     ]
    }
   ],
   "source": [
    "garage = Garage_Tester.get_example()\n",
    "print(garage)"
   ]
  },
  {
   "cell_type": "code",
   "execution_count": 52,
   "metadata": {},
   "outputs": [],
   "source": [
    "class Customer:\n",
    "    def __init__(self,name, address):\n",
    "        self.name = name\n",
    "        self.address = address\n",
    "\n",
    "    @property\n",
    "    def get_name(self):\n",
    "        return self.name.title()\n",
    "    \n",
    "    @property\n",
    "    def get_address(self):\n",
    "        return self.address\n",
    "    \n",
    "    def __repr__(self):\n",
    "        return 'CUSTOMER INFORMATION \\nName: %s \\nAddress %s'\\\n",
    "              %(self.get_name,self.get_address)\n"
   ]
  },
  {
   "cell_type": "code",
   "execution_count": 40,
   "metadata": {},
   "outputs": [
    {
     "data": {
      "text/plain": [
       "CUSTOMER INFORMATION \n",
       "Name: Edube \n",
       "Address P.O.Box 245 ug"
      ]
     },
     "execution_count": 40,
     "metadata": {},
     "output_type": "execute_result"
    }
   ],
   "source": [
    "Edube = Customer('edube','P.O.Box 245 ug')\n",
    "Edube"
   ]
  }
 ],
 "metadata": {
  "kernelspec": {
   "display_name": "Python 3",
   "language": "python",
   "name": "python3"
  },
  "language_info": {
   "codemirror_mode": {
    "name": "ipython",
    "version": 3
   },
   "file_extension": ".py",
   "mimetype": "text/x-python",
   "name": "python",
   "nbconvert_exporter": "python",
   "pygments_lexer": "ipython3",
   "version": "3.11.5"
  }
 },
 "nbformat": 4,
 "nbformat_minor": 2
}
